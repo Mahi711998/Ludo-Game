{
  "nbformat": 4,
  "nbformat_minor": 0,
  "metadata": {
    "colab": {
      "provenance": []
    },
    "kernelspec": {
      "name": "python3",
      "display_name": "Python 3"
    },
    "language_info": {
      "name": "python"
    }
  },
  "cells": [
    {
      "cell_type": "markdown",
      "source": [
        "**Improvised Ludo Game:**\n",
        "\n",
        "Requirements:\n",
        "1. Take input from human as their name , and how many rounds they want to play the game .\n",
        "2. Take input from human , making sure the inputs should be from 1-6 only\n",
        "3. let the computer generate the one random value between 1 to 6\n",
        "4. who ever gets the highest number give them a point\n",
        "5. Continue this till the rounds that user has asked to play\n",
        "6. atlast who ever gets the highest points declare them as winner"
      ],
      "metadata": {
        "id": "f92KlYy55STz"
      }
    },
    {
      "cell_type": "code",
      "source": [
        "import random\n",
        "name=input(\"enter your name:\")\n",
        "rounds=int(input(\"how many rounds you want:\"))\n",
        "user_points=0\n",
        "computer_points=0\n",
        "start=1\n",
        "while start<=rounds:\n",
        "    user_num=int(input(\"enter number:\"))\n",
        "    while not (user_num>=1 and user_num<=6):\n",
        "        print(\"invalid number you can try again\")\n",
        "        user_num=int(input(\"enter 1 to 6 numbers only:\"))\n",
        "    computer=random.randint(1,6)\n",
        "    print(computer,\"is computer generated\")\n",
        "    print(user_num,\"is user generated\")\n",
        "    if user_num>computer:\n",
        "        print(name,\"is won in this round\")\n",
        "        user_points+=1\n",
        "    elif computer>user_num:\n",
        "        print(\"computer is won in this round\")\n",
        "        computer_points+=1\n",
        "    else:\n",
        "        print(\"both are won\")\n",
        "        user_points+=1\n",
        "        computer_points+=1\n",
        "    start=start+1\n",
        "print(\"user points:\",user_points)\n",
        "print(\"computer points:\",computer_points)\n",
        "if computer_points>user_points:\n",
        "    print(\"computer is won in this game\")\n",
        "elif user_points>ai_points:\n",
        "    print(name,\"is won in this game\")\n",
        "else:\n",
        "    print(\"both are tie\")\n"
      ],
      "metadata": {
        "colab": {
          "base_uri": "https://localhost:8080/"
        },
        "id": "aXQQjQgCimaK",
        "outputId": "a8160efe-5046-4c00-c657-080bba0fac9c"
      },
      "execution_count": null,
      "outputs": [
        {
          "output_type": "stream",
          "name": "stdout",
          "text": [
            "enter your name:mahi\n",
            "how many rounds you want:4\n",
            "enter number:7\n",
            "invalid number you can try again\n",
            "enter 1 to 6 numbers only:4\n",
            "3 is computer generated\n",
            "4 is user generated\n",
            "mahi is won in this round\n",
            "enter number:3\n",
            "3 is computer generated\n",
            "3 is user generated\n",
            "both are won\n",
            "enter number:2\n",
            "6 is computer generated\n",
            "2 is user generated\n",
            "computer is won in this round\n",
            "enter number:3\n",
            "6 is computer generated\n",
            "3 is user generated\n",
            "computer is won in this round\n",
            "user points: 2\n",
            "computer points: 3\n",
            "computer is won in this game\n"
          ]
        }
      ]
    }
  ]
}